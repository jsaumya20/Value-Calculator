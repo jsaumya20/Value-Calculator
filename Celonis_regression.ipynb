{
 "cells": [
  {
   "cell_type": "code",
   "execution_count": 1,
   "metadata": {},
   "outputs": [],
   "source": [
    "import numpy as np\n",
    "import pandas as pd\n",
    "import matplotlib.pyplot as plt\n",
    "%matplotlib inline\n",
    "import seaborn as sns"
   ]
  },
  {
   "cell_type": "code",
   "execution_count": 2,
   "metadata": {},
   "outputs": [],
   "source": [
    "data = pd.read_csv('celonis_calculator.csv')"
   ]
  },
  {
   "cell_type": "code",
   "execution_count": 3,
   "metadata": {},
   "outputs": [
    {
     "data": {
      "text/html": [
       "<div>\n",
       "<style scoped>\n",
       "    .dataframe tbody tr th:only-of-type {\n",
       "        vertical-align: middle;\n",
       "    }\n",
       "\n",
       "    .dataframe tbody tr th {\n",
       "        vertical-align: top;\n",
       "    }\n",
       "\n",
       "    .dataframe thead th {\n",
       "        text-align: right;\n",
       "    }\n",
       "</style>\n",
       "<table border=\"1\" class=\"dataframe\">\n",
       "  <thead>\n",
       "    <tr style=\"text-align: right;\">\n",
       "      <th></th>\n",
       "      <th>Revenue</th>\n",
       "      <th>COGS</th>\n",
       "      <th>SG&amp;A</th>\n",
       "      <th>Free Cash Flow</th>\n",
       "      <th>Operating Margin</th>\n",
       "      <th>Revenue Protection</th>\n",
       "      <th>Company</th>\n",
       "    </tr>\n",
       "  </thead>\n",
       "  <tbody>\n",
       "    <tr>\n",
       "      <th>0</th>\n",
       "      <td>5000.0</td>\n",
       "      <td>3500.0</td>\n",
       "      <td>950.0</td>\n",
       "      <td>35.3</td>\n",
       "      <td>26.0</td>\n",
       "      <td>7.5</td>\n",
       "      <td>Auto Generated</td>\n",
       "    </tr>\n",
       "    <tr>\n",
       "      <th>1</th>\n",
       "      <td>513983000.0</td>\n",
       "      <td>446343000.0</td>\n",
       "      <td>54129000.0</td>\n",
       "      <td>4200.0</td>\n",
       "      <td>3000.0</td>\n",
       "      <td>338.2</td>\n",
       "      <td>Amazon2022</td>\n",
       "    </tr>\n",
       "    <tr>\n",
       "      <th>2</th>\n",
       "      <td>46710000.0</td>\n",
       "      <td>25231000.0</td>\n",
       "      <td>14804000.0</td>\n",
       "      <td>283.5</td>\n",
       "      <td>216.2</td>\n",
       "      <td>107.4</td>\n",
       "      <td>Nike 2022</td>\n",
       "    </tr>\n",
       "    <tr>\n",
       "      <th>3</th>\n",
       "      <td>156735000.0</td>\n",
       "      <td>135754000.0</td>\n",
       "      <td>10667000.0</td>\n",
       "      <td>1300.0</td>\n",
       "      <td>907.3</td>\n",
       "      <td>104.9</td>\n",
       "      <td>General Motors 2022</td>\n",
       "    </tr>\n",
       "    <tr>\n",
       "      <th>4</th>\n",
       "      <td>94780000.0</td>\n",
       "      <td>51745000.0</td>\n",
       "      <td>25236000.0</td>\n",
       "      <td>578.6</td>\n",
       "      <td>439.7</td>\n",
       "      <td>215.2</td>\n",
       "      <td>Nestlé 2022</td>\n",
       "    </tr>\n",
       "    <tr>\n",
       "      <th>5</th>\n",
       "      <td>81462000.0</td>\n",
       "      <td>60609000.0</td>\n",
       "      <td>3946000.0</td>\n",
       "      <td>596.8</td>\n",
       "      <td>434.2</td>\n",
       "      <td>104.3</td>\n",
       "      <td>Tesla 2022</td>\n",
       "    </tr>\n",
       "    <tr>\n",
       "      <th>6</th>\n",
       "      <td>611289000.0</td>\n",
       "      <td>463721000.0</td>\n",
       "      <td>127140000.0</td>\n",
       "      <td>4500.0</td>\n",
       "      <td>3300.0</td>\n",
       "      <td>737.8</td>\n",
       "      <td>Walmart 2023</td>\n",
       "    </tr>\n",
       "    <tr>\n",
       "      <th>7</th>\n",
       "      <td>109120000.0</td>\n",
       "      <td>82229000.0</td>\n",
       "      <td>20658000.0</td>\n",
       "      <td>805.9</td>\n",
       "      <td>588.7</td>\n",
       "      <td>134.5</td>\n",
       "      <td>Target Corporation 2023</td>\n",
       "    </tr>\n",
       "    <tr>\n",
       "      <th>8</th>\n",
       "      <td>32250300.0</td>\n",
       "      <td>23879200.0</td>\n",
       "      <td>2032000.0</td>\n",
       "      <td>235.6</td>\n",
       "      <td>171.6</td>\n",
       "      <td>41.9</td>\n",
       "      <td>Starbucks Corporation 2022</td>\n",
       "    </tr>\n",
       "    <tr>\n",
       "      <th>9</th>\n",
       "      <td>82722000.0</td>\n",
       "      <td>54401000.0</td>\n",
       "      <td>16388000.0</td>\n",
       "      <td>562.0</td>\n",
       "      <td>416.9</td>\n",
       "      <td>141.6</td>\n",
       "      <td>The Walt Disney Company 2022</td>\n",
       "    </tr>\n",
       "    <tr>\n",
       "      <th>10</th>\n",
       "      <td>116609000.0</td>\n",
       "      <td>25249000.0</td>\n",
       "      <td>27078000.0</td>\n",
       "      <td>475.1</td>\n",
       "      <td>456.8</td>\n",
       "      <td>397.2</td>\n",
       "      <td>Meta Platforms 2022</td>\n",
       "    </tr>\n",
       "    <tr>\n",
       "      <th>11</th>\n",
       "      <td>282836000.0</td>\n",
       "      <td>126203000.0</td>\n",
       "      <td>42291000.0</td>\n",
       "      <td>1600.0</td>\n",
       "      <td>1200.0</td>\n",
       "      <td>783.2</td>\n",
       "      <td>Alphabet 2022</td>\n",
       "    </tr>\n",
       "  </tbody>\n",
       "</table>\n",
       "</div>"
      ],
      "text/plain": [
       "        Revenue         COGS         SG&A  Free Cash Flow   Operating Margin  \\\n",
       "0        5000.0       3500.0        950.0             35.3              26.0   \n",
       "1   513983000.0  446343000.0   54129000.0           4200.0            3000.0   \n",
       "2    46710000.0   25231000.0   14804000.0            283.5             216.2   \n",
       "3   156735000.0  135754000.0   10667000.0           1300.0             907.3   \n",
       "4    94780000.0   51745000.0   25236000.0            578.6             439.7   \n",
       "5    81462000.0   60609000.0    3946000.0            596.8             434.2   \n",
       "6   611289000.0  463721000.0  127140000.0           4500.0            3300.0   \n",
       "7   109120000.0   82229000.0   20658000.0            805.9             588.7   \n",
       "8    32250300.0   23879200.0    2032000.0            235.6             171.6   \n",
       "9    82722000.0   54401000.0   16388000.0            562.0             416.9   \n",
       "10  116609000.0   25249000.0   27078000.0            475.1             456.8   \n",
       "11  282836000.0  126203000.0   42291000.0           1600.0            1200.0   \n",
       "\n",
       "    Revenue Protection                      Company   \n",
       "0                  7.5                Auto Generated  \n",
       "1                338.2                    Amazon2022  \n",
       "2                107.4                     Nike 2022  \n",
       "3                104.9           General Motors 2022  \n",
       "4                215.2                   Nestlé 2022  \n",
       "5                104.3                    Tesla 2022  \n",
       "6                737.8                  Walmart 2023  \n",
       "7                134.5       Target Corporation 2023  \n",
       "8                 41.9    Starbucks Corporation 2022  \n",
       "9                141.6  The Walt Disney Company 2022  \n",
       "10               397.2           Meta Platforms 2022  \n",
       "11               783.2                 Alphabet 2022  "
      ]
     },
     "execution_count": 3,
     "metadata": {},
     "output_type": "execute_result"
    }
   ],
   "source": [
    "data"
   ]
  },
  {
   "cell_type": "code",
   "execution_count": 4,
   "metadata": {},
   "outputs": [],
   "source": [
    "data.rename(columns={\"Free Cash Flow \": \"Free_cash_flow\",\"Operating Margin\":\"Operating_Margin\",\n",
    "                     \"Revenue Protection\": \"Revenue_Protection\"} , inplace =True)"
   ]
  },
  {
   "cell_type": "code",
   "execution_count": 5,
   "metadata": {},
   "outputs": [
    {
     "data": {
      "text/html": [
       "<div>\n",
       "<style scoped>\n",
       "    .dataframe tbody tr th:only-of-type {\n",
       "        vertical-align: middle;\n",
       "    }\n",
       "\n",
       "    .dataframe tbody tr th {\n",
       "        vertical-align: top;\n",
       "    }\n",
       "\n",
       "    .dataframe thead th {\n",
       "        text-align: right;\n",
       "    }\n",
       "</style>\n",
       "<table border=\"1\" class=\"dataframe\">\n",
       "  <thead>\n",
       "    <tr style=\"text-align: right;\">\n",
       "      <th></th>\n",
       "      <th>Revenue</th>\n",
       "      <th>COGS</th>\n",
       "      <th>SG&amp;A</th>\n",
       "      <th>Free_cash_flow</th>\n",
       "      <th>Operating_Margin</th>\n",
       "      <th>Revenue_Protection</th>\n",
       "    </tr>\n",
       "  </thead>\n",
       "  <tbody>\n",
       "    <tr>\n",
       "      <th>Revenue</th>\n",
       "      <td>1.000000</td>\n",
       "      <td>0.974776</td>\n",
       "      <td>0.914481</td>\n",
       "      <td>0.989195</td>\n",
       "      <td>0.992987</td>\n",
       "      <td>0.753335</td>\n",
       "    </tr>\n",
       "    <tr>\n",
       "      <th>COGS</th>\n",
       "      <td>0.974776</td>\n",
       "      <td>1.000000</td>\n",
       "      <td>0.851819</td>\n",
       "      <td>0.996778</td>\n",
       "      <td>0.994072</td>\n",
       "      <td>0.588168</td>\n",
       "    </tr>\n",
       "    <tr>\n",
       "      <th>SG&amp;A</th>\n",
       "      <td>0.914481</td>\n",
       "      <td>0.851819</td>\n",
       "      <td>1.000000</td>\n",
       "      <td>0.873968</td>\n",
       "      <td>0.886793</td>\n",
       "      <td>0.805621</td>\n",
       "    </tr>\n",
       "    <tr>\n",
       "      <th>Free_cash_flow</th>\n",
       "      <td>0.989195</td>\n",
       "      <td>0.996778</td>\n",
       "      <td>0.873968</td>\n",
       "      <td>1.000000</td>\n",
       "      <td>0.999349</td>\n",
       "      <td>0.649917</td>\n",
       "    </tr>\n",
       "    <tr>\n",
       "      <th>Operating_Margin</th>\n",
       "      <td>0.992987</td>\n",
       "      <td>0.994072</td>\n",
       "      <td>0.886793</td>\n",
       "      <td>0.999349</td>\n",
       "      <td>1.000000</td>\n",
       "      <td>0.670549</td>\n",
       "    </tr>\n",
       "    <tr>\n",
       "      <th>Revenue_Protection</th>\n",
       "      <td>0.753335</td>\n",
       "      <td>0.588168</td>\n",
       "      <td>0.805621</td>\n",
       "      <td>0.649917</td>\n",
       "      <td>0.670549</td>\n",
       "      <td>1.000000</td>\n",
       "    </tr>\n",
       "  </tbody>\n",
       "</table>\n",
       "</div>"
      ],
      "text/plain": [
       "                     Revenue      COGS      SG&A  Free_cash_flow  \\\n",
       "Revenue             1.000000  0.974776  0.914481        0.989195   \n",
       "COGS                0.974776  1.000000  0.851819        0.996778   \n",
       "SG&A                0.914481  0.851819  1.000000        0.873968   \n",
       "Free_cash_flow      0.989195  0.996778  0.873968        1.000000   \n",
       "Operating_Margin    0.992987  0.994072  0.886793        0.999349   \n",
       "Revenue_Protection  0.753335  0.588168  0.805621        0.649917   \n",
       "\n",
       "                    Operating_Margin  Revenue_Protection  \n",
       "Revenue                     0.992987            0.753335  \n",
       "COGS                        0.994072            0.588168  \n",
       "SG&A                        0.886793            0.805621  \n",
       "Free_cash_flow              0.999349            0.649917  \n",
       "Operating_Margin            1.000000            0.670549  \n",
       "Revenue_Protection          0.670549            1.000000  "
      ]
     },
     "execution_count": 5,
     "metadata": {},
     "output_type": "execute_result"
    }
   ],
   "source": [
    "data.corr()"
   ]
  },
  {
   "cell_type": "code",
   "execution_count": 6,
   "metadata": {},
   "outputs": [
    {
     "data": {
      "image/png": "[encoded data removed]",
      "text/plain": [
       "<Figure size 432x288 with 1 Axes>"
      ]
     },
     "metadata": {
      "needs_background": "light"
     },
     "output_type": "display_data"
    }
   ],
   "source": [
    "\n",
    "plt.scatter(data[\"Revenue\"], data[\"Free_cash_flow\"],label='Revenue')\n",
    "plt.scatter(data[\"COGS\"], data[\"Free_cash_flow\"])\n",
    "plt.scatter(data[\"SG&A\"], data[\"Free_cash_flow\"])\n",
    "plt.xlabel(\"Inputs\")\n",
    "plt.ylabel(\"Free_cash_flow\")\n",
    "\n",
    "plt.show()"
   ]
  },
  {
   "cell_type": "code",
   "execution_count": 7,
   "metadata": {},
   "outputs": [
    {
     "data": {
      "text/plain": [
       "<AxesSubplot:xlabel='SG&A', ylabel='Free_cash_flow'>"
      ]
     },
     "execution_count": 7,
     "metadata": {},
     "output_type": "execute_result"
    },
    {
     "data": {
      "image/png": "[encoded data removed]",
      "text/plain": [
       "<Figure size 504x504 with 1 Axes>"
      ]
     },
     "metadata": {
      "needs_background": "light"
     },
     "output_type": "display_data"
    }
   ],
   "source": [
    "ax = data.plot(kind='scatter', x='Revenue', y='Free_cash_flow',color =\"Red\", label='Revenue',s =50,figsize=(7,7))\n",
    "data.plot(kind='scatter', x='COGS', y='Free_cash_flow', color = \"Blue\", label='COGS',s =50, ax=ax)\n",
    "data.plot(kind='scatter', x='SG&A', y='Free_cash_flow', color = \"Green\", label='COGS',s=50, ax=ax)"
   ]
  },
  {
   "cell_type": "code",
   "execution_count": 8,
   "metadata": {},
   "outputs": [
    {
     "data": {
      "text/plain": [
       "Index(['Revenue', 'COGS', 'SG&A', 'Free_cash_flow', 'Operating_Margin',\n",
       "       'Revenue_Protection', 'Company '],\n",
       "      dtype='object')"
      ]
     },
     "execution_count": 8,
     "metadata": {},
     "output_type": "execute_result"
    }
   ],
   "source": [
    "data.columns"
   ]
  },
  {
   "cell_type": "markdown",
   "metadata": {},
   "source": [
    "# Equation for Free Cash Flow"
   ]
  },
  {
   "cell_type": "code",
   "execution_count": 9,
   "metadata": {},
   "outputs": [],
   "source": [
    "from sklearn.linear_model import LinearRegression\n",
    "linreg = LinearRegression()\n",
    "X = data[['Revenue','COGS','SG&A']]\n",
    "y = data['Free_cash_flow']"
   ]
  },
  {
   "cell_type": "code",
   "execution_count": 10,
   "metadata": {},
   "outputs": [
    {
     "data": {
      "text/plain": [
       "LinearRegression()"
      ]
     },
     "execution_count": 10,
     "metadata": {},
     "output_type": "execute_result"
    }
   ],
   "source": [
    "linreg.fit(X,y)     #Fit"
   ]
  },
  {
   "cell_type": "code",
   "execution_count": 11,
   "metadata": {},
   "outputs": [
    {
     "name": "stdout",
     "output_type": "stream",
     "text": [
      "6.17\n",
      "[ 0.  0. -0.]\n"
     ]
    }
   ],
   "source": [
    "print((linreg.intercept_).round(2))\n",
    "print((linreg.coef_).round(2))"
   ]
  },
  {
   "cell_type": "code",
   "execution_count": 12,
   "metadata": {},
   "outputs": [
    {
     "name": "stdout",
     "output_type": "stream",
     "text": [
      "Intercept    3.646402e-01\n",
      "X[0]         2.255458e-08\n",
      "X[1]         1.104463e-10\n",
      "X[2]         2.241708e-03\n",
      "dtype: float64\n"
     ]
    },
    {
     "name": "stderr",
     "output_type": "stream",
     "text": [
      "C:\\Users\\jsaum\\anaconda3\\lib\\site-packages\\scipy\\stats\\stats.py:1603: UserWarning: kurtosistest only valid for n>=20 ... continuing anyway, n=12\n",
      "  warnings.warn(\"kurtosistest only valid for n>=20 ... continuing \"\n"
     ]
    }
   ],
   "source": [
    "import statsmodels.formula.api as smf\n",
    "lm = smf.ols(formula='y ~ X', data= data).fit()\n",
    "lm.summary()\n",
    "print(lm.pvalues)"
   ]
  },
  {
   "cell_type": "code",
   "execution_count": 13,
   "metadata": {},
   "outputs": [
    {
     "name": "stdout",
     "output_type": "stream",
     "text": [
      "[ 3.22396759e-06  5.93878934e-06 -1.85474097e-06]\n",
      "10.166962237590269\n"
     ]
    }
   ],
   "source": [
    "from sklearn.model_selection import train_test_split\n",
    "from sklearn import metrics\n",
    "\n",
    "X_train, X_test, y_train, y_test = train_test_split(X, y, test_size=0.33)\n",
    "\n",
    "lm = LinearRegression()\n",
    "#We train based on Training Data BUT will Test on Test Set\n",
    "Model_train = lm.fit(X_train,y_train)\n",
    "y_pred = Model_train.predict(X_test)\n",
    "print(Model_train.coef_)\n",
    "print(Model_train.intercept_)"
   ]
  },
  {
   "cell_type": "code",
   "execution_count": 14,
   "metadata": {},
   "outputs": [],
   "source": [
    "accuracy = Model_train.score(X_test,y_test)"
   ]
  },
  {
   "cell_type": "code",
   "execution_count": 15,
   "metadata": {},
   "outputs": [
    {
     "name": "stdout",
     "output_type": "stream",
     "text": [
      "0.9998864149865113\n"
     ]
    }
   ],
   "source": [
    "print(accuracy)"
   ]
  },
  {
   "cell_type": "code",
   "execution_count": 18,
   "metadata": {},
   "outputs": [
    {
     "name": "stdout",
     "output_type": "stream",
     "text": [
      "Free_Cash_Flow = 10.166962237590269 + 0.0 *Revenue + 5.938789338361714e-06 *COGS + -1.8547409672368409e-06 *SG&A\n"
     ]
    }
   ],
   "source": [
    "print(\"Free_Cash_Flow =\",  Model_train.intercept_ ,\"+\", round(Model_train.coef_[0],4), \"*Revenue +\",  Model_train.coef_[1],\"*COGS +\",\n",
    "        Model_train.coef_[2],\"*SG&A\")"
   ]
  },
  {
   "cell_type": "code",
   "execution_count": null,
   "metadata": {},
   "outputs": [],
   "source": []
  }
 ],
 "metadata": {
  "kernelspec": {
   "display_name": "Python 3",
   "language": "python",
   "name": "python3"
  },
  "language_info": {
   "codemirror_mode": {
    "name": "ipython",
    "version": 3
   },
   "file_extension": ".py",
   "mimetype": "text/x-python",
   "name": "python",
   "nbconvert_exporter": "python",
   "pygments_lexer": "ipython3",
   "version": "3.8.5"
  }
 },
 "nbformat": 4,
 "nbformat_minor": 4
}
